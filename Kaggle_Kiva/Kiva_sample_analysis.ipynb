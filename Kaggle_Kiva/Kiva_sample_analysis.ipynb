{
 "cells": [
  {
   "cell_type": "code",
   "execution_count": 2,
   "metadata": {},
   "outputs": [],
   "source": [
    "import pandas as pd\n",
    "import matplotlib.pyplot as plt\n",
    "import numpy as np\n"
   ]
  },
  {
   "cell_type": "code",
   "execution_count": 3,
   "metadata": {},
   "outputs": [
    {
     "name": "stdout",
     "output_type": "stream",
     "text": [
      "   loan_amount               activity   country  gender\n",
      "0          625  Food Production/Sales  Pakistan  female\n",
      "1          250  Food Production/Sales  Pakistan  female\n",
      "2          400  Food Production/Sales  Pakistan  female\n",
      "3          400  Food Production/Sales  Pakistan  female\n",
      "4          500  Food Production/Sales  Pakistan  female\n"
     ]
    }
   ],
   "source": [
    "df=pd.read_csv('kiva_data.csv')\n",
    "print(df.head())"
   ]
  },
  {
   "cell_type": "code",
   "execution_count": 4,
   "metadata": {},
   "outputs": [
    {
     "data": {
      "text/plain": [
       "Index(['loan_amount', 'activity', 'country', 'gender'], dtype='object')"
      ]
     },
     "execution_count": 4,
     "metadata": {},
     "output_type": "execute_result"
    }
   ],
   "source": [
    "df.columns"
   ]
  },
  {
   "cell_type": "code",
   "execution_count": 5,
   "metadata": {},
   "outputs": [
    {
     "name": "stdout",
     "output_type": "stream",
     "text": [
      "       loan_amount               activity   country  gender\n",
      "0              625  Food Production/Sales  Pakistan  female\n",
      "1              250  Food Production/Sales  Pakistan  female\n",
      "2              400  Food Production/Sales  Pakistan  female\n",
      "3              400  Food Production/Sales  Pakistan  female\n",
      "4              500  Food Production/Sales  Pakistan  female\n",
      "...            ...                    ...       ...     ...\n",
      "65494          875                Farming     Kenya    male\n",
      "65495          550                Farming     Kenya  female\n",
      "65496          825                Farming     Kenya    male\n",
      "65497          675                Farming     Kenya  female\n",
      "65498          400                Farming     Kenya  female\n",
      "\n",
      "[65499 rows x 4 columns]\n"
     ]
    }
   ],
   "source": [
    "print(df)"
   ]
  },
  {
   "cell_type": "code",
   "execution_count": 9,
   "metadata": {},
   "outputs": [
    {
     "data": {
      "text/plain": [
       "loan_amount    0\n",
       "activity       0\n",
       "country        0\n",
       "gender         0\n",
       "dtype: int64"
      ]
     },
     "execution_count": 9,
     "metadata": {},
     "output_type": "execute_result"
    }
   ],
   "source": [
    "df.isna().sum()"
   ]
  },
  {
   "cell_type": "code",
   "execution_count": 8,
   "metadata": {},
   "outputs": [
    {
     "name": "stdout",
     "output_type": "stream",
     "text": [
      "<class 'pandas.core.frame.DataFrame'>\n",
      "RangeIndex: 65499 entries, 0 to 65498\n",
      "Data columns (total 4 columns):\n",
      " #   Column       Non-Null Count  Dtype \n",
      "---  ------       --------------  ----- \n",
      " 0   loan_amount  65499 non-null  int64 \n",
      " 1   activity     65499 non-null  object\n",
      " 2   country      65499 non-null  object\n",
      " 3   gender       65499 non-null  object\n",
      "dtypes: int64(1), object(3)\n",
      "memory usage: 2.0+ MB\n"
     ]
    }
   ],
   "source": [
    "df.info()"
   ]
  },
  {
   "cell_type": "code",
   "execution_count": null,
   "metadata": {},
   "outputs": [],
   "source": []
  },
  {
   "cell_type": "code",
   "execution_count": null,
   "metadata": {},
   "outputs": [],
   "source": []
  },
  {
   "cell_type": "code",
   "execution_count": null,
   "metadata": {},
   "outputs": [],
   "source": []
  }
 ],
 "metadata": {
  "kernelspec": {
   "display_name": "Python 3",
   "language": "python",
   "name": "python3"
  },
  "language_info": {
   "codemirror_mode": {
    "name": "ipython",
    "version": 3
   },
   "file_extension": ".py",
   "mimetype": "text/x-python",
   "name": "python",
   "nbconvert_exporter": "python",
   "pygments_lexer": "ipython3",
   "version": "3.7.6"
  }
 },
 "nbformat": 4,
 "nbformat_minor": 4
}
